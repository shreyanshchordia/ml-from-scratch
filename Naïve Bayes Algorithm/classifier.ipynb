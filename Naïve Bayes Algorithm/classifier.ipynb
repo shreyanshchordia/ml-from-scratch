{
  "nbformat": 4,
  "nbformat_minor": 0,
  "metadata": {
    "colab": {
      "name": "Naïve Bayes Algorithm ",
      "provenance": []
    },
    "kernelspec": {
      "name": "python3",
      "display_name": "Python 3"
    },
    "accelerator": "GPU"
  },
  "cells": [
    {
      "cell_type": "code",
      "metadata": {
        "id": "0NC7bxZjNn98"
      },
      "source": [
        "import pandas as pd\n",
        "import numpy as np\n",
        "from sklearn.model_selection import train_test_split"
      ],
      "execution_count": 1,
      "outputs": []
    },
    {
      "cell_type": "code",
      "metadata": {
        "id": "siqLXKwNPeeF"
      },
      "source": [
        "raw_dataset = pd.read_csv(\"/data/toy_dataset.csv\")"
      ],
      "execution_count": 6,
      "outputs": []
    },
    {
      "cell_type": "code",
      "metadata": {
        "id": "AZx6kN5qPj9-",
        "outputId": "9119175f-30d1-489c-f62d-b009ef02a6c9",
        "colab": {
          "base_uri": "https://localhost:8080/",
          "height": 359
        }
      },
      "source": [
        "raw_dataset.head(10)"
      ],
      "execution_count": 7,
      "outputs": [
        {
          "output_type": "execute_result",
          "data": {
            "text/plain": "   Number    City  Gender  Age   Income Illness\n0       1  Dallas    Male   41  40367.0      No\n1       2  Dallas    Male   54  45084.0      No\n2       3  Dallas    Male   42  52483.0      No\n3       4  Dallas    Male   40  40941.0      No\n4       5  Dallas    Male   46  50289.0      No\n5       6  Dallas  Female   36  50786.0      No\n6       7  Dallas  Female   32  33155.0      No\n7       8  Dallas    Male   39  30914.0      No\n8       9  Dallas    Male   51  68667.0      No\n9      10  Dallas  Female   30  50082.0      No",
            "text/html": "<div>\n<style scoped>\n    .dataframe tbody tr th:only-of-type {\n        vertical-align: middle;\n    }\n\n    .dataframe tbody tr th {\n        vertical-align: top;\n    }\n\n    .dataframe thead th {\n        text-align: right;\n    }\n</style>\n<table border=\"1\" class=\"dataframe\">\n  <thead>\n    <tr style=\"text-align: right;\">\n      <th></th>\n      <th>Number</th>\n      <th>City</th>\n      <th>Gender</th>\n      <th>Age</th>\n      <th>Income</th>\n      <th>Illness</th>\n    </tr>\n  </thead>\n  <tbody>\n    <tr>\n      <th>0</th>\n      <td>1</td>\n      <td>Dallas</td>\n      <td>Male</td>\n      <td>41</td>\n      <td>40367.0</td>\n      <td>No</td>\n    </tr>\n    <tr>\n      <th>1</th>\n      <td>2</td>\n      <td>Dallas</td>\n      <td>Male</td>\n      <td>54</td>\n      <td>45084.0</td>\n      <td>No</td>\n    </tr>\n    <tr>\n      <th>2</th>\n      <td>3</td>\n      <td>Dallas</td>\n      <td>Male</td>\n      <td>42</td>\n      <td>52483.0</td>\n      <td>No</td>\n    </tr>\n    <tr>\n      <th>3</th>\n      <td>4</td>\n      <td>Dallas</td>\n      <td>Male</td>\n      <td>40</td>\n      <td>40941.0</td>\n      <td>No</td>\n    </tr>\n    <tr>\n      <th>4</th>\n      <td>5</td>\n      <td>Dallas</td>\n      <td>Male</td>\n      <td>46</td>\n      <td>50289.0</td>\n      <td>No</td>\n    </tr>\n    <tr>\n      <th>5</th>\n      <td>6</td>\n      <td>Dallas</td>\n      <td>Female</td>\n      <td>36</td>\n      <td>50786.0</td>\n      <td>No</td>\n    </tr>\n    <tr>\n      <th>6</th>\n      <td>7</td>\n      <td>Dallas</td>\n      <td>Female</td>\n      <td>32</td>\n      <td>33155.0</td>\n      <td>No</td>\n    </tr>\n    <tr>\n      <th>7</th>\n      <td>8</td>\n      <td>Dallas</td>\n      <td>Male</td>\n      <td>39</td>\n      <td>30914.0</td>\n      <td>No</td>\n    </tr>\n    <tr>\n      <th>8</th>\n      <td>9</td>\n      <td>Dallas</td>\n      <td>Male</td>\n      <td>51</td>\n      <td>68667.0</td>\n      <td>No</td>\n    </tr>\n    <tr>\n      <th>9</th>\n      <td>10</td>\n      <td>Dallas</td>\n      <td>Female</td>\n      <td>30</td>\n      <td>50082.0</td>\n      <td>No</td>\n    </tr>\n  </tbody>\n</table>\n</div>"
          },
          "metadata": {},
          "execution_count": 7
        }
      ]
    },
    {
      "cell_type": "code",
      "metadata": {
        "id": "4v--J9nkPmtp",
        "outputId": "4ea35621-5166-47cf-96db-b857359d196d",
        "colab": {
          "base_uri": "https://localhost:8080/",
          "height": 297
        }
      },
      "source": [
        "raw_dataset.describe()"
      ],
      "execution_count": 8,
      "outputs": [
        {
          "output_type": "execute_result",
          "data": {
            "text/plain": "              Number            Age         Income\ncount  150000.000000  150000.000000  150000.000000\nmean    75000.500000      44.950200   91252.798273\nstd     43301.414527      11.572486   24989.500948\nmin         1.000000      25.000000    -654.000000\n25%     37500.750000      35.000000   80867.750000\n50%     75000.500000      45.000000   93655.000000\n75%    112500.250000      55.000000  104519.000000\nmax    150000.000000      65.000000  177157.000000",
            "text/html": "<div>\n<style scoped>\n    .dataframe tbody tr th:only-of-type {\n        vertical-align: middle;\n    }\n\n    .dataframe tbody tr th {\n        vertical-align: top;\n    }\n\n    .dataframe thead th {\n        text-align: right;\n    }\n</style>\n<table border=\"1\" class=\"dataframe\">\n  <thead>\n    <tr style=\"text-align: right;\">\n      <th></th>\n      <th>Number</th>\n      <th>Age</th>\n      <th>Income</th>\n    </tr>\n  </thead>\n  <tbody>\n    <tr>\n      <th>count</th>\n      <td>150000.000000</td>\n      <td>150000.000000</td>\n      <td>150000.000000</td>\n    </tr>\n    <tr>\n      <th>mean</th>\n      <td>75000.500000</td>\n      <td>44.950200</td>\n      <td>91252.798273</td>\n    </tr>\n    <tr>\n      <th>std</th>\n      <td>43301.414527</td>\n      <td>11.572486</td>\n      <td>24989.500948</td>\n    </tr>\n    <tr>\n      <th>min</th>\n      <td>1.000000</td>\n      <td>25.000000</td>\n      <td>-654.000000</td>\n    </tr>\n    <tr>\n      <th>25%</th>\n      <td>37500.750000</td>\n      <td>35.000000</td>\n      <td>80867.750000</td>\n    </tr>\n    <tr>\n      <th>50%</th>\n      <td>75000.500000</td>\n      <td>45.000000</td>\n      <td>93655.000000</td>\n    </tr>\n    <tr>\n      <th>75%</th>\n      <td>112500.250000</td>\n      <td>55.000000</td>\n      <td>104519.000000</td>\n    </tr>\n    <tr>\n      <th>max</th>\n      <td>150000.000000</td>\n      <td>65.000000</td>\n      <td>177157.000000</td>\n    </tr>\n  </tbody>\n</table>\n</div>"
          },
          "metadata": {},
          "execution_count": 8
        }
      ]
    },
    {
      "cell_type": "code",
      "metadata": {
        "id": "acOg6SNrQREj",
        "outputId": "5f7da357-a67f-44fe-d38b-50251f53c4c9",
        "colab": {
          "base_uri": "https://localhost:8080/",
          "height": 34
        }
      },
      "source": [
        "raw_dataset.dropna(inplace=True)\n",
        "len(raw_dataset)"
      ],
      "execution_count": 9,
      "outputs": [
        {
          "output_type": "execute_result",
          "data": {
            "text/plain": "150000"
          },
          "metadata": {},
          "execution_count": 9
        }
      ]
    },
    {
      "cell_type": "code",
      "metadata": {
        "id": "fJ6MSErT4IS4",
        "outputId": "424ce638-aa14-4104-9203-82a897c54808",
        "colab": {
          "base_uri": "https://localhost:8080/",
          "height": 34
        }
      },
      "source": [
        "raw_dataset.drop(columns=['Number'], inplace=True)\n",
        "raw_dataset.columns"
      ],
      "execution_count": 10,
      "outputs": [
        {
          "output_type": "execute_result",
          "data": {
            "text/plain": "Index([&#39;City&#39;, &#39;Gender&#39;, &#39;Age&#39;, &#39;Income&#39;, &#39;Illness&#39;], dtype=&#39;object&#39;)"
          },
          "metadata": {},
          "execution_count": 10
        }
      ]
    },
    {
      "cell_type": "code",
      "metadata": {
        "id": "QSSZl1de4M89"
      },
      "source": [
        "# categorization\n",
        "\n",
        "def discretization(attr_list):\n",
        "\n",
        "    sorted_list = sorted(attr_list)\n",
        "\n",
        "    '''\n",
        "    Our Discretization Method:\n",
        "\n",
        "    Q 0            Q 1            Q 2            Q 3             Q 4\n",
        "    0 % --------- 25 % --------- 50 % --------- 75 % --------- 100 % \n",
        "    \n",
        "    score - 0             1               2              3\n",
        "\n",
        "    '''\n",
        "\n",
        "    attr_map = dict()\n",
        "    multiple = len(attr_list) / 4\n",
        "    next = multiple\n",
        "\n",
        "    for index in range(4):\n",
        "        attr_map[index] = sorted_list[int(next-1)] \n",
        "        next += multiple\n",
        "\n",
        "    result = []\n",
        "\n",
        "    for val in attr_list:\n",
        "        for i in range(4):\n",
        "            if val <= attr_map[i]:\n",
        "                result.append(i)\n",
        "                break\n",
        "    \n",
        "    return result\n",
        "\n",
        "\n",
        "def categoric_encoder(attr_list, attr_map = {}):\n",
        "\n",
        "    i = 0\n",
        "\n",
        "    if len(attr_map) == 0:\n",
        "        attr_set = set(attr_list)\n",
        "        for a in attr_set:\n",
        "            attr_map[a] = i\n",
        "            i += 1\n",
        "        \n",
        "    result = []\n",
        "    \n",
        "    for a in attr_list:\n",
        "        try:\n",
        "            result.append(attr_map[a])\n",
        "        except:\n",
        "            print(\"'\" + a + \"'\")\n",
        "    \n",
        "    return result"
      ],
      "execution_count": 11,
      "outputs": []
    },
    {
      "cell_type": "code",
      "metadata": {
        "id": "4peEQLJs_ruz"
      },
      "source": [
        "'''\n",
        "Index(['City', 'Gender', 'Age', 'Income', 'Illness'], dtype='object')\n",
        "We need to discretize age & income as they are continuous attribute \n",
        "encode rest of the categorical attributes\n",
        "'''\n",
        "dataset = raw_dataset.copy()\n",
        "\n",
        "dataset['City'] = categoric_encoder(dataset['City'])\n",
        "dataset['Gender'] = categoric_encoder(dataset['Gender'], {'Female': 0, 'Male': 1})\n",
        "dataset['Age'] = discretization(dataset['Age'])\n",
        "dataset['Income'] = discretization(dataset['Income'])\n",
        "dataset['Illness'] = categoric_encoder(dataset['Illness'], {'Yes': 1, 'No': 0})"
      ],
      "execution_count": 12,
      "outputs": []
    },
    {
      "cell_type": "code",
      "metadata": {
        "id": "f2An3HIQDPRh",
        "outputId": "e51c1e7b-7dfe-4571-f9d4-d12e285ea657",
        "colab": {
          "base_uri": "https://localhost:8080/",
          "height": 204
        }
      },
      "source": [
        "dataset.head()"
      ],
      "execution_count": 13,
      "outputs": [
        {
          "output_type": "execute_result",
          "data": {
            "text/plain": "   City  Gender  Age  Income  Illness\n0     1       1    1       0        0\n1     1       1    2       0        0\n2     1       1    1       0        0\n3     1       1    1       0        0\n4     1       1    2       0        0",
            "text/html": "<div>\n<style scoped>\n    .dataframe tbody tr th:only-of-type {\n        vertical-align: middle;\n    }\n\n    .dataframe tbody tr th {\n        vertical-align: top;\n    }\n\n    .dataframe thead th {\n        text-align: right;\n    }\n</style>\n<table border=\"1\" class=\"dataframe\">\n  <thead>\n    <tr style=\"text-align: right;\">\n      <th></th>\n      <th>City</th>\n      <th>Gender</th>\n      <th>Age</th>\n      <th>Income</th>\n      <th>Illness</th>\n    </tr>\n  </thead>\n  <tbody>\n    <tr>\n      <th>0</th>\n      <td>1</td>\n      <td>1</td>\n      <td>1</td>\n      <td>0</td>\n      <td>0</td>\n    </tr>\n    <tr>\n      <th>1</th>\n      <td>1</td>\n      <td>1</td>\n      <td>2</td>\n      <td>0</td>\n      <td>0</td>\n    </tr>\n    <tr>\n      <th>2</th>\n      <td>1</td>\n      <td>1</td>\n      <td>1</td>\n      <td>0</td>\n      <td>0</td>\n    </tr>\n    <tr>\n      <th>3</th>\n      <td>1</td>\n      <td>1</td>\n      <td>1</td>\n      <td>0</td>\n      <td>0</td>\n    </tr>\n    <tr>\n      <th>4</th>\n      <td>1</td>\n      <td>1</td>\n      <td>2</td>\n      <td>0</td>\n      <td>0</td>\n    </tr>\n  </tbody>\n</table>\n</div>"
          },
          "metadata": {},
          "execution_count": 13
        }
      ]
    },
    {
      "cell_type": "markdown",
      "metadata": {
        "id": "-2PRGbGBL9vV"
      },
      "source": [
        "## Naive Bayes Algorithm"
      ]
    },
    {
      "cell_type": "code",
      "metadata": {
        "id": "EiLqqWmMMBO6"
      },
      "source": [
        "'''\n",
        "P(A & B) = P(A | B) X P(B)  OR  P(B | A) X P(A)\n",
        "\n",
        "Hence\n",
        "    P(Class) P(Attributes | Class) = P(Class | Attributes) * P(Attributes)\n",
        "\n",
        "    Therefore,\n",
        "    \n",
        "    P(Class) = [ P(Class | Attributes) * P(Attributes) ] / P(Attributes | Class)\n",
        "\n",
        "    P(C) = [ P(C | A1, A2, ..,An) * P(A1, A2, ..,An)] / P(A1, A2, ..,An | C)\n",
        "\n",
        "    P(C) = P(C | A1) * P(C | A2) * ... * P(C | An) * P(A1) * P(A2) * ... * P(An)\n",
        "            __________________________________________________________________\n",
        "                      \n",
        "                      P(A1 | C) * P(A2 | C) * ... * P(An | C)\n",
        "\n",
        "'''\n",
        "\n",
        "class NaiveBayesAlgorithm:\n",
        "\n",
        "    def __init__(self):\n",
        "        self.count = {}\n",
        "        self.P = {}\n",
        "        self.classes = None\n",
        "\n",
        "    def initialize_count(self, X, Y):\n",
        "\n",
        "        for x, y in zip(X, Y):\n",
        "            '''\n",
        "            x = [a1, a2, ..., an] Y = [C]\n",
        "            '''\n",
        "            for i, a in enumerate(x):\n",
        "\n",
        "                self.count['C' + str(y) + '|' + 'A' + str(i) + str(a)] = self.count.get('C' + str(y) + '|' + 'A' + str(i) + str(a), 0) + 1\n",
        "\n",
        "                self.count['A' + str(i) + str(a) + '|' + 'C' + str(y)] = self.count.get('A' + str(i) + str(a) + '|' + 'C' + str(y), 0) + 1\n",
        "                \n",
        "                self.count['A' + str(i) + str(a) + '_'] = self.count.get('A' + str(i) + str(a) + '_', 0) + 1\n",
        "\n",
        "            self.count['C' + str(y) + '_'] = self.count.get('C' + str(y) + '_', 0) + 1\n",
        "\n",
        "        return\n",
        "\n",
        "    def initialize_probability(self, n):\n",
        "\n",
        "        for k in self.count.keys():\n",
        "            \n",
        "            if k[-1] != '_':\n",
        "                self.P[k] = self.count[k] / self.count[k[k.find('|') + 1:] + '_']\n",
        "            \n",
        "            else:\n",
        "                self.P[k] = self.count[k] / n\n",
        "        \n",
        "        return\n",
        "\n",
        "            \n",
        "\n",
        "    def fit(self, X, Y):\n",
        "\n",
        "        self.classes = sorted( list( set( list( Y.flatten() ))))\n",
        "        \n",
        "        self.initialize_count(X, Y)\n",
        "\n",
        "        self.initialize_probability(X.shape[0])\n",
        "\n",
        "        return\n",
        "    \n",
        "    \n",
        "    def numerator(self, c, x):\n",
        "\n",
        "        result = 1\n",
        "\n",
        "        for i, a in enumerate(x):\n",
        "            result *= self.P['A' + str(i) + str(a) + '_']\n",
        "            result *= self.P['C' + str(c) + '|' + 'A' + str(i) + str(a)]\n",
        "        \n",
        "        return result\n",
        "        \n",
        "    \n",
        "    def denominator(self, c, x):\n",
        "\n",
        "        result = 1\n",
        "\n",
        "        for i, a in enumerate(x):\n",
        "            result *= self.P['A' + str(i) + str(a) + '|' + 'C' + str(c)]\n",
        "        \n",
        "        return result\n",
        "        \n",
        "\n",
        "    def predict(self, x):\n",
        "\n",
        "        best_class = self.classes[0]\n",
        "        best_score = 0\n",
        "\n",
        "        for c in self.classes:\n",
        "\n",
        "            n = self.numerator(c, x)\n",
        "            d = self.denominator(c, x)\n",
        "            score = n/d\n",
        "\n",
        "            if (score > best_score):\n",
        "                best_class = c\n",
        "                best_score = score\n",
        "        \n",
        "        return best_class, best_score\n",
        "        \n",
        "\n",
        "    def evaluate(self, X, Y):\n",
        "        correct = 0\n",
        "        total = X.shape[0]\n",
        "\n",
        "        for x, y in zip(X, Y):\n",
        "\n",
        "            c, _ = self.predict(x)\n",
        "\n",
        "            if(c == y):\n",
        "                correct += 1\n",
        "        \n",
        "        accuracy = correct / total\n",
        "        return accuracy\n",
        "\n"
      ],
      "execution_count": 14,
      "outputs": []
    },
    {
      "cell_type": "code",
      "metadata": {
        "id": "imqUSW-cZTXZ"
      },
      "source": [
        "data = dataset.to_numpy()\n",
        "X = data[:, :-1]\n",
        "Y = data[:,  -1]\n",
        "X_train, X_test, Y_train, Y_test = train_test_split(X, Y, test_size=0.2, random_state=42)"
      ],
      "execution_count": 15,
      "outputs": []
    },
    {
      "cell_type": "code",
      "metadata": {
        "id": "vTuhPOhSyp5U"
      },
      "source": [
        "model = NaiveBayesAlgorithm()\n",
        "model.fit(X_train, Y_train)"
      ],
      "execution_count": 16,
      "outputs": []
    },
    {
      "cell_type": "code",
      "metadata": {
        "id": "TPQE2xc92Cxq",
        "outputId": "484b147f-e128-4542-f17e-f2ba5a152d1e",
        "colab": {
          "base_uri": "https://localhost:8080/",
          "height": 34
        }
      },
      "source": [
        "'''\n",
        "Evaluating on the data it is trained\n",
        "'''\n",
        "model.evaluate(X_train, Y_train)"
      ],
      "execution_count": 17,
      "outputs": [
        {
          "output_type": "execute_result",
          "data": {
            "text/plain": "0.91865"
          },
          "metadata": {},
          "execution_count": 17
        }
      ]
    },
    {
      "cell_type": "code",
      "metadata": {
        "id": "Bzgy_t433e5F",
        "outputId": "62b81f21-8b37-4f82-92ba-98dccbd7cea5",
        "colab": {
          "base_uri": "https://localhost:8080/",
          "height": 34
        }
      },
      "source": [
        "'''\n",
        "Evaluating on testing data\n",
        "'''\n",
        "model.evaluate(X_test, Y_test)"
      ],
      "execution_count": 18,
      "outputs": [
        {
          "output_type": "execute_result",
          "data": {
            "text/plain": "0.9207666666666666"
          },
          "metadata": {},
          "execution_count": 18
        }
      ]
    }
  ]
}