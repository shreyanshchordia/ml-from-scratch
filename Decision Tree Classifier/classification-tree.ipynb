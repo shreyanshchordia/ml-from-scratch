{
  "nbformat": 4,
  "nbformat_minor": 0,
  "metadata": {
    "colab": {
      "name": "Decision Tree Classifier",
      "provenance": [],
      "collapsed_sections": []
    },
    "kernelspec": {
      "name": "python3",
      "display_name": "Python 3"
    }
  },
  "cells": [
    {
      "cell_type": "code",
      "metadata": {
        "id": "0NC7bxZjNn98"
      },
      "source": [
        "import pandas as pd\n",
        "import numpy as np\n",
        "from sklearn.model_selection import train_test_split\n",
        "import math"
      ],
      "execution_count": 2,
      "outputs": []
    },
    {
      "cell_type": "code",
      "metadata": {
        "id": "siqLXKwNPeeF"
      },
      "source": [
        "raw_dataset = pd.read_csv(\"/data/toy_dataset.csv\")"
      ],
      "execution_count": 6,
      "outputs": []
    },
    {
      "cell_type": "code",
      "metadata": {
        "id": "AZx6kN5qPj9-",
        "outputId": "570e6b73-f6fb-426d-da6d-6c1926cf22d1",
        "colab": {
          "base_uri": "https://localhost:8080/",
          "height": 359
        }
      },
      "source": [
        "raw_dataset.head(10)"
      ],
      "execution_count": 7,
      "outputs": [
        {
          "output_type": "execute_result",
          "data": {
            "text/plain": "   Number    City  Gender  Age   Income Illness\n0       1  Dallas    Male   41  40367.0      No\n1       2  Dallas    Male   54  45084.0      No\n2       3  Dallas    Male   42  52483.0      No\n3       4  Dallas    Male   40  40941.0      No\n4       5  Dallas    Male   46  50289.0      No\n5       6  Dallas  Female   36  50786.0      No\n6       7  Dallas  Female   32  33155.0      No\n7       8  Dallas    Male   39  30914.0      No\n8       9  Dallas    Male   51  68667.0      No\n9      10  Dallas  Female   30  50082.0      No",
            "text/html": "<div>\n<style scoped>\n    .dataframe tbody tr th:only-of-type {\n        vertical-align: middle;\n    }\n\n    .dataframe tbody tr th {\n        vertical-align: top;\n    }\n\n    .dataframe thead th {\n        text-align: right;\n    }\n</style>\n<table border=\"1\" class=\"dataframe\">\n  <thead>\n    <tr style=\"text-align: right;\">\n      <th></th>\n      <th>Number</th>\n      <th>City</th>\n      <th>Gender</th>\n      <th>Age</th>\n      <th>Income</th>\n      <th>Illness</th>\n    </tr>\n  </thead>\n  <tbody>\n    <tr>\n      <th>0</th>\n      <td>1</td>\n      <td>Dallas</td>\n      <td>Male</td>\n      <td>41</td>\n      <td>40367.0</td>\n      <td>No</td>\n    </tr>\n    <tr>\n      <th>1</th>\n      <td>2</td>\n      <td>Dallas</td>\n      <td>Male</td>\n      <td>54</td>\n      <td>45084.0</td>\n      <td>No</td>\n    </tr>\n    <tr>\n      <th>2</th>\n      <td>3</td>\n      <td>Dallas</td>\n      <td>Male</td>\n      <td>42</td>\n      <td>52483.0</td>\n      <td>No</td>\n    </tr>\n    <tr>\n      <th>3</th>\n      <td>4</td>\n      <td>Dallas</td>\n      <td>Male</td>\n      <td>40</td>\n      <td>40941.0</td>\n      <td>No</td>\n    </tr>\n    <tr>\n      <th>4</th>\n      <td>5</td>\n      <td>Dallas</td>\n      <td>Male</td>\n      <td>46</td>\n      <td>50289.0</td>\n      <td>No</td>\n    </tr>\n    <tr>\n      <th>5</th>\n      <td>6</td>\n      <td>Dallas</td>\n      <td>Female</td>\n      <td>36</td>\n      <td>50786.0</td>\n      <td>No</td>\n    </tr>\n    <tr>\n      <th>6</th>\n      <td>7</td>\n      <td>Dallas</td>\n      <td>Female</td>\n      <td>32</td>\n      <td>33155.0</td>\n      <td>No</td>\n    </tr>\n    <tr>\n      <th>7</th>\n      <td>8</td>\n      <td>Dallas</td>\n      <td>Male</td>\n      <td>39</td>\n      <td>30914.0</td>\n      <td>No</td>\n    </tr>\n    <tr>\n      <th>8</th>\n      <td>9</td>\n      <td>Dallas</td>\n      <td>Male</td>\n      <td>51</td>\n      <td>68667.0</td>\n      <td>No</td>\n    </tr>\n    <tr>\n      <th>9</th>\n      <td>10</td>\n      <td>Dallas</td>\n      <td>Female</td>\n      <td>30</td>\n      <td>50082.0</td>\n      <td>No</td>\n    </tr>\n  </tbody>\n</table>\n</div>"
          },
          "metadata": {},
          "execution_count": 7
        }
      ]
    },
    {
      "cell_type": "code",
      "metadata": {
        "id": "4v--J9nkPmtp",
        "outputId": "42af238a-bde2-43eb-9944-2225369e67ed",
        "colab": {
          "base_uri": "https://localhost:8080/",
          "height": 297
        }
      },
      "source": [
        "raw_dataset.describe()"
      ],
      "execution_count": 8,
      "outputs": [
        {
          "output_type": "execute_result",
          "data": {
            "text/plain": "              Number            Age         Income\ncount  150000.000000  150000.000000  150000.000000\nmean    75000.500000      44.950200   91252.798273\nstd     43301.414527      11.572486   24989.500948\nmin         1.000000      25.000000    -654.000000\n25%     37500.750000      35.000000   80867.750000\n50%     75000.500000      45.000000   93655.000000\n75%    112500.250000      55.000000  104519.000000\nmax    150000.000000      65.000000  177157.000000",
            "text/html": "<div>\n<style scoped>\n    .dataframe tbody tr th:only-of-type {\n        vertical-align: middle;\n    }\n\n    .dataframe tbody tr th {\n        vertical-align: top;\n    }\n\n    .dataframe thead th {\n        text-align: right;\n    }\n</style>\n<table border=\"1\" class=\"dataframe\">\n  <thead>\n    <tr style=\"text-align: right;\">\n      <th></th>\n      <th>Number</th>\n      <th>Age</th>\n      <th>Income</th>\n    </tr>\n  </thead>\n  <tbody>\n    <tr>\n      <th>count</th>\n      <td>150000.000000</td>\n      <td>150000.000000</td>\n      <td>150000.000000</td>\n    </tr>\n    <tr>\n      <th>mean</th>\n      <td>75000.500000</td>\n      <td>44.950200</td>\n      <td>91252.798273</td>\n    </tr>\n    <tr>\n      <th>std</th>\n      <td>43301.414527</td>\n      <td>11.572486</td>\n      <td>24989.500948</td>\n    </tr>\n    <tr>\n      <th>min</th>\n      <td>1.000000</td>\n      <td>25.000000</td>\n      <td>-654.000000</td>\n    </tr>\n    <tr>\n      <th>25%</th>\n      <td>37500.750000</td>\n      <td>35.000000</td>\n      <td>80867.750000</td>\n    </tr>\n    <tr>\n      <th>50%</th>\n      <td>75000.500000</td>\n      <td>45.000000</td>\n      <td>93655.000000</td>\n    </tr>\n    <tr>\n      <th>75%</th>\n      <td>112500.250000</td>\n      <td>55.000000</td>\n      <td>104519.000000</td>\n    </tr>\n    <tr>\n      <th>max</th>\n      <td>150000.000000</td>\n      <td>65.000000</td>\n      <td>177157.000000</td>\n    </tr>\n  </tbody>\n</table>\n</div>"
          },
          "metadata": {},
          "execution_count": 8
        }
      ]
    },
    {
      "cell_type": "code",
      "metadata": {
        "id": "acOg6SNrQREj",
        "outputId": "730688ff-b491-4a51-b9f8-b628865f272f",
        "colab": {
          "base_uri": "https://localhost:8080/",
          "height": 34
        }
      },
      "source": [
        "raw_dataset.dropna(inplace=True)\n",
        "len(raw_dataset)"
      ],
      "execution_count": 9,
      "outputs": [
        {
          "output_type": "execute_result",
          "data": {
            "text/plain": "150000"
          },
          "metadata": {},
          "execution_count": 9
        }
      ]
    },
    {
      "cell_type": "code",
      "metadata": {
        "id": "fJ6MSErT4IS4",
        "outputId": "fddfda8e-f8e6-4dd8-90c8-b77cbb2a55aa",
        "colab": {
          "base_uri": "https://localhost:8080/",
          "height": 34
        }
      },
      "source": [
        "raw_dataset.drop(columns=['Number'], inplace=True)\n",
        "raw_dataset.columns"
      ],
      "execution_count": 10,
      "outputs": [
        {
          "output_type": "execute_result",
          "data": {
            "text/plain": "Index([&#39;City&#39;, &#39;Gender&#39;, &#39;Age&#39;, &#39;Income&#39;, &#39;Illness&#39;], dtype=&#39;object&#39;)"
          },
          "metadata": {},
          "execution_count": 10
        }
      ]
    },
    {
      "cell_type": "code",
      "metadata": {
        "id": "QSSZl1de4M89"
      },
      "source": [
        "# categorization\n",
        "\n",
        "def discretization(attr_list):\n",
        "\n",
        "    sorted_list = sorted(attr_list)\n",
        "\n",
        "    '''\n",
        "    Our Discretization Method:\n",
        "\n",
        "    Q 0            Q 1            Q 2            Q 3             Q 4\n",
        "    0 % --------- 25 % --------- 50 % --------- 75 % --------- 100 % \n",
        "    \n",
        "    score - 0             1               2              3\n",
        "\n",
        "    '''\n",
        "\n",
        "    attr_map = dict()\n",
        "    multiple = len(attr_list) / 4\n",
        "    next = multiple\n",
        "\n",
        "    for index in range(4):\n",
        "        attr_map[index] = sorted_list[int(next-1)] \n",
        "        next += multiple\n",
        "    result = []\n",
        "\n",
        "    for val in attr_list:\n",
        "        for i in range(4):\n",
        "            if val <= attr_map[i]:\n",
        "                result.append(i)\n",
        "                break\n",
        "    \n",
        "    return result\n",
        "\n",
        "\n",
        "def categoric_encoder(attr_list, attr_map = {}):\n",
        "\n",
        "    i = 0\n",
        "\n",
        "    if len(attr_map) == 0:\n",
        "        attr_set = set(attr_list)\n",
        "        for a in attr_set:\n",
        "            attr_map[a] = i\n",
        "            i += 1\n",
        "        \n",
        "    result = []\n",
        "    \n",
        "    for a in attr_list:\n",
        "        try:\n",
        "            result.append(attr_map[a])\n",
        "        except:\n",
        "            print(\"'\" + a + \"'\")\n",
        "    \n",
        "    return result"
      ],
      "execution_count": 11,
      "outputs": []
    },
    {
      "cell_type": "code",
      "metadata": {
        "id": "4peEQLJs_ruz"
      },
      "source": [
        "'''\n",
        "Index(['City', 'Gender', 'Age', 'Income', 'Illness'], dtype='object')\n",
        "We need to discretize age & income as they are continuous attribute \n",
        "encode rest of the categorical attributes\n",
        "'''\n",
        "dataset = raw_dataset.copy()\n",
        "\n",
        "dataset['City'] = categoric_encoder(dataset['City'])\n",
        "dataset['Gender'] = categoric_encoder(dataset['Gender'], {'Female': 0, 'Male': 1})\n",
        "dataset['Age'] = discretization(dataset['Age'])\n",
        "dataset['Income'] = discretization(dataset['Income'])\n",
        "dataset['Illness'] = categoric_encoder(dataset['Illness'], {'Yes': 1, 'No': 0})"
      ],
      "execution_count": 12,
      "outputs": []
    },
    {
      "cell_type": "code",
      "metadata": {
        "id": "f2An3HIQDPRh",
        "outputId": "d1e5f8c4-c2e0-42f5-9b3d-9d7836e49b59",
        "colab": {
          "base_uri": "https://localhost:8080/",
          "height": 204
        }
      },
      "source": [
        "dataset.head()"
      ],
      "execution_count": 13,
      "outputs": [
        {
          "output_type": "execute_result",
          "data": {
            "text/plain": "   City  Gender  Age  Income  Illness\n0     4       1    1       0        0\n1     4       1    2       0        0\n2     4       1    1       0        0\n3     4       1    1       0        0\n4     4       1    2       0        0",
            "text/html": "<div>\n<style scoped>\n    .dataframe tbody tr th:only-of-type {\n        vertical-align: middle;\n    }\n\n    .dataframe tbody tr th {\n        vertical-align: top;\n    }\n\n    .dataframe thead th {\n        text-align: right;\n    }\n</style>\n<table border=\"1\" class=\"dataframe\">\n  <thead>\n    <tr style=\"text-align: right;\">\n      <th></th>\n      <th>City</th>\n      <th>Gender</th>\n      <th>Age</th>\n      <th>Income</th>\n      <th>Illness</th>\n    </tr>\n  </thead>\n  <tbody>\n    <tr>\n      <th>0</th>\n      <td>4</td>\n      <td>1</td>\n      <td>1</td>\n      <td>0</td>\n      <td>0</td>\n    </tr>\n    <tr>\n      <th>1</th>\n      <td>4</td>\n      <td>1</td>\n      <td>2</td>\n      <td>0</td>\n      <td>0</td>\n    </tr>\n    <tr>\n      <th>2</th>\n      <td>4</td>\n      <td>1</td>\n      <td>1</td>\n      <td>0</td>\n      <td>0</td>\n    </tr>\n    <tr>\n      <th>3</th>\n      <td>4</td>\n      <td>1</td>\n      <td>1</td>\n      <td>0</td>\n      <td>0</td>\n    </tr>\n    <tr>\n      <th>4</th>\n      <td>4</td>\n      <td>1</td>\n      <td>2</td>\n      <td>0</td>\n      <td>0</td>\n    </tr>\n  </tbody>\n</table>\n</div>"
          },
          "metadata": {},
          "execution_count": 13
        }
      ]
    },
    {
      "cell_type": "code",
      "metadata": {
        "id": "9a9_RG0dmiXb",
        "outputId": "c84d269c-455d-4ea2-cf61-cbddf93aec66",
        "colab": {
          "base_uri": "https://localhost:8080/",
          "height": 297
        }
      },
      "source": [
        "dataset.describe()"
      ],
      "execution_count": 14,
      "outputs": [
        {
          "output_type": "execute_result",
          "data": {
            "text/plain": "                City         Gender            Age         Income  \\\ncount  150000.000000  150000.000000  150000.000000  150000.000000   \nmean        3.713187       0.558667       1.457700       1.499953   \nstd         2.184899       0.496548       1.116975       1.118020   \nmin         0.000000       0.000000       0.000000       0.000000   \n25%         2.000000       0.000000       0.000000       0.750000   \n50%         4.000000       1.000000       1.000000       1.000000   \n75%         6.000000       1.000000       2.000000       2.000000   \nmax         7.000000       1.000000       3.000000       3.000000   \n\n             Illness  \ncount  150000.000000  \nmean        0.080927  \nstd         0.272723  \nmin         0.000000  \n25%         0.000000  \n50%         0.000000  \n75%         0.000000  \nmax         1.000000  ",
            "text/html": "<div>\n<style scoped>\n    .dataframe tbody tr th:only-of-type {\n        vertical-align: middle;\n    }\n\n    .dataframe tbody tr th {\n        vertical-align: top;\n    }\n\n    .dataframe thead th {\n        text-align: right;\n    }\n</style>\n<table border=\"1\" class=\"dataframe\">\n  <thead>\n    <tr style=\"text-align: right;\">\n      <th></th>\n      <th>City</th>\n      <th>Gender</th>\n      <th>Age</th>\n      <th>Income</th>\n      <th>Illness</th>\n    </tr>\n  </thead>\n  <tbody>\n    <tr>\n      <th>count</th>\n      <td>150000.000000</td>\n      <td>150000.000000</td>\n      <td>150000.000000</td>\n      <td>150000.000000</td>\n      <td>150000.000000</td>\n    </tr>\n    <tr>\n      <th>mean</th>\n      <td>3.713187</td>\n      <td>0.558667</td>\n      <td>1.457700</td>\n      <td>1.499953</td>\n      <td>0.080927</td>\n    </tr>\n    <tr>\n      <th>std</th>\n      <td>2.184899</td>\n      <td>0.496548</td>\n      <td>1.116975</td>\n      <td>1.118020</td>\n      <td>0.272723</td>\n    </tr>\n    <tr>\n      <th>min</th>\n      <td>0.000000</td>\n      <td>0.000000</td>\n      <td>0.000000</td>\n      <td>0.000000</td>\n      <td>0.000000</td>\n    </tr>\n    <tr>\n      <th>25%</th>\n      <td>2.000000</td>\n      <td>0.000000</td>\n      <td>0.000000</td>\n      <td>0.750000</td>\n      <td>0.000000</td>\n    </tr>\n    <tr>\n      <th>50%</th>\n      <td>4.000000</td>\n      <td>1.000000</td>\n      <td>1.000000</td>\n      <td>1.000000</td>\n      <td>0.000000</td>\n    </tr>\n    <tr>\n      <th>75%</th>\n      <td>6.000000</td>\n      <td>1.000000</td>\n      <td>2.000000</td>\n      <td>2.000000</td>\n      <td>0.000000</td>\n    </tr>\n    <tr>\n      <th>max</th>\n      <td>7.000000</td>\n      <td>1.000000</td>\n      <td>3.000000</td>\n      <td>3.000000</td>\n      <td>1.000000</td>\n    </tr>\n  </tbody>\n</table>\n</div>"
          },
          "metadata": {},
          "execution_count": 14
        }
      ]
    },
    {
      "cell_type": "markdown",
      "metadata": {
        "id": "-2PRGbGBL9vV"
      },
      "source": [
        "## Decision Tree Classifier"
      ]
    },
    {
      "cell_type": "code",
      "metadata": {
        "id": "EiLqqWmMMBO6"
      },
      "source": [
        "\n",
        "class Node:\n",
        "\n",
        "    def __init__(self, attribute = None):\n",
        "        self.attribute = attribute\n",
        "        self.children = {}\n",
        "        self.group = None\n",
        "\n",
        "\n",
        "class DecisionTreeClassifier:\n",
        "\n",
        "    def __init__(self):\n",
        "        self.attr_set = []\n",
        "        self.class_set = {}\n",
        "        self.root = None\n",
        "        self.num = 0\n",
        "\n",
        "    def set_metadata(self, X, Y):\n",
        "\n",
        "        for i in range(self.num): \n",
        "            # accessing the attribute columns one at a time\n",
        "\n",
        "            x = X[:, i].flatten()\n",
        "            y = Y.flatten()\n",
        "\n",
        "            # preparing details of ith attribute column\n",
        "            attr_details = {}\n",
        "\n",
        "            # dictionary for different values of categorical attribute column\n",
        "            for a in set(x):\n",
        "                attr_details[a] = set()\n",
        "\n",
        "            for i, a in enumerate(x):\n",
        "                attr_details[a].add(i)\n",
        "            \n",
        "            self.attr_set.append(attr_details)\n",
        "        \n",
        "        # preparing details of objective class\n",
        "        for c in set(y):\n",
        "            self.class_set[c] = set()\n",
        "        \n",
        "        for i, c in enumerate(y):\n",
        "            self.class_set[c].add(i)\n",
        "\n",
        "        return\n",
        "\n",
        "\n",
        "    def entropy(self, p):\n",
        "\n",
        "        '''\n",
        "        Entropy = - P X Log(P)\n",
        "        '''\n",
        "        if p == 0:\n",
        "            return 0\n",
        "        return (-1 * p * math.log2(p))\n",
        "\n",
        "\n",
        "    def get_base_entropy(self, remainder_indices):\n",
        "\n",
        "        result = 0\n",
        "        if (len(remainder_indices) == 0): return result\n",
        "\n",
        "        for c in self.class_set.keys():\n",
        "            p = len(self.class_set[c].intersection(remainder_indices)) / len(remainder_indices)\n",
        "            result += self.entropy(p)\n",
        "        \n",
        "        return result\n",
        "\n",
        "\n",
        "    def get_group(self, remainder_indices):\n",
        "        \n",
        "        best_class = None\n",
        "        best_score = 0\n",
        "\n",
        "        for c in self.class_set.keys():\n",
        "\n",
        "            score = len( self.class_set[c].intersection(remainder_indices) )\n",
        "\n",
        "            if (score > best_score):\n",
        "                best_class = c\n",
        "                best_score = score\n",
        "            \n",
        "            return best_class\n",
        "    \n",
        "\n",
        "    def find_best_attribute(self, attributes, indices, base):\n",
        "\n",
        "        best_attribute = None\n",
        "        best_gain = 0\n",
        "\n",
        "        for a in list(attributes): # attribute\n",
        "            score = 0\n",
        "            for c in self.attr_set[a].keys(): # subclasses in every attribute\n",
        "\n",
        "                new_indices = self.attr_set[a][c].intersection(indices)\n",
        "                \n",
        "                p = len(new_indices) / len(indices)\n",
        "\n",
        "                entropy = self.get_base_entropy(new_indices)\n",
        "\n",
        "                score += p * entropy\n",
        "            \n",
        "            gain = base - score\n",
        "\n",
        "            if (gain > best_gain):\n",
        "                best_gain = gain\n",
        "                best_attribute = a\n",
        "        \n",
        "        return best_attribute\n",
        "\n",
        "\n",
        "    def make_tree(self, remainder_indices, remainder_attributes, depth):\n",
        "        \n",
        "        if len(remainder_indices) == 0:\n",
        "\n",
        "            root = Node()\n",
        "            root.group = list(self.class_set.keys())[0]\n",
        "            return root\n",
        "\n",
        "        base_entropy = self.get_base_entropy(remainder_indices)\n",
        "\n",
        "        if depth == 0 or len(remainder_attributes) == 0 or base_entropy == 0:\n",
        "\n",
        "            root = Node()\n",
        "\n",
        "            root.group = self.get_group(remainder_indices)\n",
        "\n",
        "            return root\n",
        "\n",
        "        best_attribute = self.find_best_attribute(remainder_attributes, remainder_indices, base_entropy)\n",
        "        \n",
        "        remainder_attributes.remove(best_attribute)\n",
        "        \n",
        "        root = Node(best_attribute)\n",
        "\n",
        "        for c in self.attr_set[best_attribute].keys(): \n",
        "\n",
        "            new_indices = self.attr_set[best_attribute][c].intersection(remainder_indices)\n",
        "            \n",
        "            root.children[c] = self.make_tree(new_indices, remainder_attributes, depth-1)\n",
        "\n",
        "        return root\n",
        "\n",
        "\n",
        "    def fit(self, X, Y, depth):\n",
        "        \n",
        "        self.num = X.shape[1]\n",
        "        self.set_metadata(X, Y)\n",
        "\n",
        "        remainder_indices = set([i for i in range(Y.shape[0])])\n",
        "        remainder_attributes = set([i for i in range(self.num)])\n",
        "\n",
        "        self.root = self.make_tree(remainder_indices, remainder_attributes, depth)\n",
        "\n",
        "        return\n",
        "\n",
        "\n",
        "    def predict(self, x):\n",
        "\n",
        "        temp = self.root\n",
        "        while(temp.attribute != None):\n",
        "\n",
        "            c = x[temp.attribute]\n",
        "            temp = temp.children[c]\n",
        "\n",
        "        return temp.group\n",
        "\n",
        "\n",
        "    def evaluate(self, X, Y):\n",
        "\n",
        "        score = 0\n",
        "        total = X.shape[0]\n",
        "\n",
        "        for i, x in enumerate(X):\n",
        "\n",
        "            c = self.predict(x)\n",
        "\n",
        "            if (c == Y[i]):\n",
        "                score += 1\n",
        "        \n",
        "        return (score/total)\n"
      ],
      "execution_count": 19,
      "outputs": []
    },
    {
      "cell_type": "code",
      "metadata": {
        "id": "imqUSW-cZTXZ"
      },
      "source": [
        "data = dataset.to_numpy()\n",
        "X = data[:, :-1]\n",
        "Y = data[:,  -1]\n",
        "X_train, X_test, Y_train, Y_test = train_test_split(X, Y, test_size=0.2, random_state=42)"
      ],
      "execution_count": 20,
      "outputs": []
    },
    {
      "cell_type": "code",
      "metadata": {
        "id": "vTuhPOhSyp5U"
      },
      "source": [
        "model = DecisionTreeClassifier()\n",
        "model.fit(X_train, Y_train, 10)"
      ],
      "execution_count": 21,
      "outputs": []
    },
    {
      "cell_type": "code",
      "metadata": {
        "id": "TPQE2xc92Cxq",
        "outputId": "d0b5f857-30b9-4967-adb4-84e333610a10",
        "colab": {
          "base_uri": "https://localhost:8080/",
          "height": 34
        }
      },
      "source": [
        "'''\n",
        "Evaluating on the data it is trained\n",
        "'''\n",
        "model.evaluate(X_train, Y_train)"
      ],
      "execution_count": 22,
      "outputs": [
        {
          "output_type": "execute_result",
          "data": {
            "text/plain": "0.91865"
          },
          "metadata": {},
          "execution_count": 22
        }
      ]
    },
    {
      "cell_type": "code",
      "metadata": {
        "id": "Bzgy_t433e5F",
        "outputId": "826fae12-dd85-40f1-f7dc-bc37ed757d90",
        "colab": {
          "base_uri": "https://localhost:8080/",
          "height": 34
        }
      },
      "source": [
        "'''\n",
        "Evaluating on testing data\n",
        "'''\n",
        "model.evaluate(X_test, Y_test)"
      ],
      "execution_count": 23,
      "outputs": [
        {
          "output_type": "execute_result",
          "data": {
            "text/plain": "0.9207666666666666"
          },
          "metadata": {},
          "execution_count": 23
        }
      ]
    },
    {
      "cell_type": "code",
      "metadata": {
        "id": "OsVd1oJ26HEI"
      },
      "source": [
        ""
      ],
      "execution_count": null,
      "outputs": []
    }
  ]
}